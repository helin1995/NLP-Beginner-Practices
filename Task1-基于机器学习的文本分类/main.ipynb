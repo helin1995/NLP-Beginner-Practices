{
 "cells": [
  {
   "cell_type": "code",
   "execution_count": 110,
   "id": "bde0cb95-e6b1-4ef3-af8f-a6fceedfef5d",
   "metadata": {},
   "outputs": [],
   "source": [
    "import os\n",
    "import time\n",
    "import numpy as np\n",
    "from utils import *\n",
    "from softmax_regression import Model"
   ]
  },
  {
   "cell_type": "code",
   "execution_count": 25,
   "id": "6903603f-ff18-4b42-add3-f9702bd174f8",
   "metadata": {},
   "outputs": [],
   "source": [
    "if not os.path.exists('./dataset'):\n",
    "    current_path = os.getcwd()           # 获得当前路径\n",
    "    os.mkdir(current_path + '/dataset')  # 添加dataset路径\n",
    "    path = './sentiment-analysis-on-movie-reviews/train.tsv'  # 原始数据所在路径\n",
    "    generate_dataset(path)  # 生成数据集：训练集、开发集和测试集（train.txt、dev.txt和test.txt）"
   ]
  },
  {
   "cell_type": "code",
   "execution_count": 26,
   "id": "c1b013ad-e386-452a-b22a-c1f15e274e27",
   "metadata": {},
   "outputs": [
    {
     "name": "stdout",
     "output_type": "stream",
     "text": [
      "正在进行数据清洗！\n",
      "数据清洗完成！\n",
      "开始生成词典！\n",
      "已生成好词典！\n"
     ]
    }
   ],
   "source": [
    "train_path = './dataset/train.txt'\n",
    "vocab, data = build_vocab(train_path)"
   ]
  },
  {
   "cell_type": "code",
   "execution_count": 27,
   "id": "97930211-e351-432f-88f2-482fee7fd784",
   "metadata": {},
   "outputs": [],
   "source": [
    "feature = feature_extraction(vocab, data)"
   ]
  },
  {
   "cell_type": "code",
   "execution_count": 103,
   "id": "0cf8ae6a-e711-4018-be1a-44fd51e58205",
   "metadata": {},
   "outputs": [],
   "source": [
    "model = Model()"
   ]
  },
  {
   "cell_type": "code",
   "execution_count": 104,
   "id": "3b4aa883-5c0f-469d-b552-970ae5c3157e",
   "metadata": {},
   "outputs": [],
   "source": [
    "def one_hot_encode(y, class_nums):\n",
    "    '''\n",
    "    将标签改为one-hot编码\n",
    "    '''\n",
    "    y_new = np.zeros((class_nums, len(y)))\n",
    "    for idx, val in enumerate(y):\n",
    "        y_new[int(val)][idx] = 1\n",
    "    return y_new    \n",
    "    \n",
    "def cross_entropy_loss(y_, y):\n",
    "    '''\n",
    "    交叉熵损失函数\n",
    "    y_：模型预测值\n",
    "    y：真实标签值\n",
    "    '''\n",
    "    N = len(y)  # batch_size=128\n",
    "    loss = 0.\n",
    "    for i in range(N):\n",
    "        for j in range(5):\n",
    "            loss += -y[j][i] * np.log(y_[j][i])\n",
    "    loss = loss / N\n",
    "    return loss\n",
    "\n",
    "def compute_accuracy(y_, y):\n",
    "    N = len(y)\n",
    "    correct_nums = 0\n",
    "    for i in range(N):\n",
    "        if y_[i] == y[i]:\n",
    "            correct_nums += 1\n",
    "    return correct_nums / N\n",
    "\n",
    "def update_parameter(model, x, y, y_):\n",
    "    lr = 1e-4\n",
    "    N = x.shape[0]\n",
    "    sigma = np.zeros((model.Weight.shape[0], model.Weight.shape[1]))\n",
    "    for i in range(N):\n",
    "        sigma += np.matmul((y.T[i]-y_.T[i]).reshape(-1, 1), x[i].reshape(1, -1))\n",
    "    model.Weight = model.Weight + lr * sigma / N\n",
    "    "
   ]
  },
  {
   "cell_type": "code",
   "execution_count": 112,
   "id": "9faa50a9-d69d-4ba4-8cbe-c63a93e17cd6",
   "metadata": {},
   "outputs": [
    {
     "name": "stdout",
     "output_type": "stream",
     "text": [
      "epoch: [1/20]\n",
      "train loss: 2.0257\ttrain accuracy: 0.1953\tcost time: 0.2020s\n",
      "train loss: 1.7799\ttrain accuracy: 0.1641\tcost time: 0.2034s\n",
      "train loss: 3.0887\ttrain accuracy: 0.1641\tcost time: 0.1958s\n",
      "train loss: 3.0836\ttrain accuracy: 0.1719\tcost time: 0.1977s\n",
      "train loss: 2.9875\ttrain accuracy: 0.1797\tcost time: 0.1976s\n",
      "train loss: 1.7190\ttrain accuracy: 0.1562\tcost time: 0.2123s\n",
      "train loss: 2.0196\ttrain accuracy: 0.2109\tcost time: 0.2172s\n",
      "train loss: 2.1785\ttrain accuracy: 0.1406\tcost time: 0.2156s\n",
      "train loss: 2.1006\ttrain accuracy: 0.1250\tcost time: 0.2116s\n",
      "train loss: 1.8294\ttrain accuracy: 0.1953\tcost time: 0.2147s\n",
      "train loss: 3.4617\ttrain accuracy: 0.1719\tcost time: 0.2109s\n",
      "train loss: 2.5428\ttrain accuracy: 0.1797\tcost time: 0.2174s\n",
      "train loss: 4.6143\ttrain accuracy: 0.2109\tcost time: 0.2090s\n",
      "train loss: 3.9505\ttrain accuracy: 0.2422\tcost time: 0.2055s\n",
      "train loss: 4.5966\ttrain accuracy: 0.2031\tcost time: 0.2040s\n",
      "train loss: 4.1309\ttrain accuracy: 0.1953\tcost time: 0.2045s\n",
      "train loss: 2.5227\ttrain accuracy: 0.1641\tcost time: 0.2027s\n",
      "train loss: 1.4627\ttrain accuracy: 0.2031\tcost time: 0.2256s\n",
      "train loss: 4.6834\ttrain accuracy: 0.1406\tcost time: 0.2139s\n",
      "train loss: 2.1294\ttrain accuracy: 0.2500\tcost time: 0.2051s\n",
      "train loss: 2.0051\ttrain accuracy: 0.2266\tcost time: 0.2050s\n",
      "train loss: 2.8059\ttrain accuracy: 0.1328\tcost time: 0.2037s\n",
      "train loss: 2.6859\ttrain accuracy: 0.2109\tcost time: 0.2039s\n",
      "train loss: 2.3806\ttrain accuracy: 0.2969\tcost time: 0.2018s\n",
      "train loss: 2.1108\ttrain accuracy: 0.1719\tcost time: 0.2045s\n",
      "train loss: 2.6350\ttrain accuracy: 0.2188\tcost time: 0.2280s\n",
      "train loss: 3.3070\ttrain accuracy: 0.1875\tcost time: 0.2084s\n",
      "train loss: 3.8256\ttrain accuracy: 0.2188\tcost time: 0.2058s\n",
      "train loss: 2.3108\ttrain accuracy: 0.1953\tcost time: 0.2102s\n",
      "train loss: 3.0950\ttrain accuracy: 0.2266\tcost time: 0.2067s\n"
     ]
    },
    {
     "ename": "KeyboardInterrupt",
     "evalue": "",
     "output_type": "error",
     "traceback": [
      "\u001b[0;31m---------------------------------------------------------------------------\u001b[0m",
      "\u001b[0;31mKeyboardInterrupt\u001b[0m                         Traceback (most recent call last)",
      "\u001b[0;32m<ipython-input-112-32327e604326>\u001b[0m in \u001b[0;36m<module>\u001b[0;34m\u001b[0m\n\u001b[1;32m     16\u001b[0m             \u001b[0mend_time\u001b[0m \u001b[0;34m=\u001b[0m \u001b[0mtime\u001b[0m\u001b[0;34m.\u001b[0m\u001b[0mtime\u001b[0m\u001b[0;34m(\u001b[0m\u001b[0;34m)\u001b[0m\u001b[0;34m\u001b[0m\u001b[0;34m\u001b[0m\u001b[0m\n\u001b[1;32m     17\u001b[0m             \u001b[0mprint\u001b[0m\u001b[0;34m(\u001b[0m\u001b[0;34m'train loss: %.4f\\ttrain accuracy: %.4f\\tcost time: %.4fs'\u001b[0m \u001b[0;34m%\u001b[0m \u001b[0;34m(\u001b[0m\u001b[0mloss\u001b[0m\u001b[0;34m,\u001b[0m \u001b[0maccuracy\u001b[0m\u001b[0;34m,\u001b[0m \u001b[0mend_time\u001b[0m\u001b[0;34m-\u001b[0m\u001b[0mstart_time\u001b[0m\u001b[0;34m)\u001b[0m\u001b[0;34m)\u001b[0m\u001b[0;34m\u001b[0m\u001b[0;34m\u001b[0m\u001b[0m\n\u001b[0;32m---> 18\u001b[0;31m         \u001b[0mupdate_parameter\u001b[0m\u001b[0;34m(\u001b[0m\u001b[0mmodel\u001b[0m\u001b[0;34m,\u001b[0m \u001b[0mx\u001b[0m\u001b[0;34m,\u001b[0m \u001b[0my\u001b[0m\u001b[0;34m,\u001b[0m \u001b[0my_hat\u001b[0m\u001b[0;34m)\u001b[0m        \u001b[0;31m# 更新参数\u001b[0m\u001b[0;34m\u001b[0m\u001b[0;34m\u001b[0m\u001b[0m\n\u001b[0m\u001b[1;32m     19\u001b[0m         \u001b[0mbatch_nums\u001b[0m \u001b[0;34m+=\u001b[0m \u001b[0;36m1\u001b[0m\u001b[0;34m\u001b[0m\u001b[0;34m\u001b[0m\u001b[0m\n",
      "\u001b[0;32m<ipython-input-104-1495193739fb>\u001b[0m in \u001b[0;36mupdate_parameter\u001b[0;34m(model, x, y, y_)\u001b[0m\n\u001b[1;32m     35\u001b[0m     \u001b[0msigma\u001b[0m \u001b[0;34m=\u001b[0m \u001b[0mnp\u001b[0m\u001b[0;34m.\u001b[0m\u001b[0mzeros\u001b[0m\u001b[0;34m(\u001b[0m\u001b[0;34m(\u001b[0m\u001b[0mmodel\u001b[0m\u001b[0;34m.\u001b[0m\u001b[0mWeight\u001b[0m\u001b[0;34m.\u001b[0m\u001b[0mshape\u001b[0m\u001b[0;34m[\u001b[0m\u001b[0;36m0\u001b[0m\u001b[0;34m]\u001b[0m\u001b[0;34m,\u001b[0m \u001b[0mmodel\u001b[0m\u001b[0;34m.\u001b[0m\u001b[0mWeight\u001b[0m\u001b[0;34m.\u001b[0m\u001b[0mshape\u001b[0m\u001b[0;34m[\u001b[0m\u001b[0;36m1\u001b[0m\u001b[0;34m]\u001b[0m\u001b[0;34m)\u001b[0m\u001b[0;34m)\u001b[0m\u001b[0;34m\u001b[0m\u001b[0;34m\u001b[0m\u001b[0m\n\u001b[1;32m     36\u001b[0m     \u001b[0;32mfor\u001b[0m \u001b[0mi\u001b[0m \u001b[0;32min\u001b[0m \u001b[0mrange\u001b[0m\u001b[0;34m(\u001b[0m\u001b[0mN\u001b[0m\u001b[0;34m)\u001b[0m\u001b[0;34m:\u001b[0m\u001b[0;34m\u001b[0m\u001b[0;34m\u001b[0m\u001b[0m\n\u001b[0;32m---> 37\u001b[0;31m         \u001b[0msigma\u001b[0m \u001b[0;34m+=\u001b[0m \u001b[0mnp\u001b[0m\u001b[0;34m.\u001b[0m\u001b[0mmatmul\u001b[0m\u001b[0;34m(\u001b[0m\u001b[0;34m(\u001b[0m\u001b[0my\u001b[0m\u001b[0;34m.\u001b[0m\u001b[0mT\u001b[0m\u001b[0;34m[\u001b[0m\u001b[0mi\u001b[0m\u001b[0;34m]\u001b[0m\u001b[0;34m-\u001b[0m\u001b[0my_\u001b[0m\u001b[0;34m.\u001b[0m\u001b[0mT\u001b[0m\u001b[0;34m[\u001b[0m\u001b[0mi\u001b[0m\u001b[0;34m]\u001b[0m\u001b[0;34m)\u001b[0m\u001b[0;34m.\u001b[0m\u001b[0mreshape\u001b[0m\u001b[0;34m(\u001b[0m\u001b[0;34m-\u001b[0m\u001b[0;36m1\u001b[0m\u001b[0;34m,\u001b[0m \u001b[0;36m1\u001b[0m\u001b[0;34m)\u001b[0m\u001b[0;34m,\u001b[0m \u001b[0mx\u001b[0m\u001b[0;34m[\u001b[0m\u001b[0mi\u001b[0m\u001b[0;34m]\u001b[0m\u001b[0;34m.\u001b[0m\u001b[0mreshape\u001b[0m\u001b[0;34m(\u001b[0m\u001b[0;36m1\u001b[0m\u001b[0;34m,\u001b[0m \u001b[0;34m-\u001b[0m\u001b[0;36m1\u001b[0m\u001b[0;34m)\u001b[0m\u001b[0;34m)\u001b[0m\u001b[0;34m\u001b[0m\u001b[0;34m\u001b[0m\u001b[0m\n\u001b[0m\u001b[1;32m     38\u001b[0m     \u001b[0mmodel\u001b[0m\u001b[0;34m.\u001b[0m\u001b[0mWeight\u001b[0m \u001b[0;34m=\u001b[0m \u001b[0mmodel\u001b[0m\u001b[0;34m.\u001b[0m\u001b[0mWeight\u001b[0m \u001b[0;34m+\u001b[0m \u001b[0mlr\u001b[0m \u001b[0;34m*\u001b[0m \u001b[0msigma\u001b[0m \u001b[0;34m/\u001b[0m \u001b[0mN\u001b[0m\u001b[0;34m\u001b[0m\u001b[0;34m\u001b[0m\u001b[0m\n\u001b[1;32m     39\u001b[0m \u001b[0;34m\u001b[0m\u001b[0m\n",
      "\u001b[0;31mKeyboardInterrupt\u001b[0m: "
     ]
    }
   ],
   "source": [
    "for epoch in range(20):\n",
    "    print('epoch: [%d/%d]' % (epoch+1, 20))\n",
    "    batch_nums = 1\n",
    "    for x, y in data_iter(feature):\n",
    "        start_time = time.time()\n",
    "        x = np.asarray(x)\n",
    "        y = np.asarray(y)\n",
    "        one = np.ones((x.shape[0], 1))\n",
    "        x = np.concatenate((x, one), axis=1)          # 将x变为增广矩阵\n",
    "        y_hat = model.forward(x)                      # 使用模型得到每个样本的标签（类别）的概率分布\n",
    "        y_pred_label = np.argmax(y_hat, axis=0)       # 使用argmax得到模型预测的结果\n",
    "        accuracy = compute_accuracy(y_pred_label, y)  # 计算mini-batch的准确率\n",
    "        y = one_hot_encode(y, 5)                    # 将样本标签转化为one-hot向量，用于使用交叉熵损失函数计算mini-batch的loss\n",
    "        loss = cross_entropy_loss(y_hat, y)         # 计算mini-batch loss\n",
    "        if batch_nums % 10 == 0:\n",
    "            end_time = time.time()\n",
    "            print('train loss: %.4f\\ttrain accuracy: %.4f\\tcost time: %.4fs' % (loss, accuracy, end_time-start_time))\n",
    "        update_parameter(model, x, y, y_hat)        # 更新参数\n",
    "        batch_nums += 1\n"
   ]
  },
  {
   "cell_type": "code",
   "execution_count": null,
   "id": "db0ff79d-ec4a-4748-a210-979e8e291191",
   "metadata": {},
   "outputs": [],
   "source": []
  }
 ],
 "metadata": {
  "kernelspec": {
   "display_name": "Python [conda env:python37-tf] *",
   "language": "python",
   "name": "conda-env-python37-tf-py"
  },
  "language_info": {
   "codemirror_mode": {
    "name": "ipython",
    "version": 3
   },
   "file_extension": ".py",
   "mimetype": "text/x-python",
   "name": "python",
   "nbconvert_exporter": "python",
   "pygments_lexer": "ipython3",
   "version": "3.7.10"
  }
 },
 "nbformat": 4,
 "nbformat_minor": 5
}
